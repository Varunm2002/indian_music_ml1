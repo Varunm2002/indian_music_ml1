{
 "cells": [
  {
   "cell_type": "markdown",
   "id": "ec7e7d37",
   "metadata": {},
   "source": [
    "# Explore Indian Music Dataset"
   ]
  },
  {
   "cell_type": "code",
   "execution_count": null,
   "id": "7cc8d28d",
   "metadata": {},
   "outputs": [],
   "source": [
    "import pandas as pd\n",
    "import matplotlib.pyplot as plt\n",
    "\n",
    "df = pd.read_csv(\"../data/indian_songs.csv\")\n",
    "print(\"Shape:\", df.shape)\n",
    "df.head()"
   ]
  },
  {
   "cell_type": "code",
   "execution_count": null,
   "id": "fa7f0026",
   "metadata": {},
   "outputs": [],
   "source": [
    "# Summary stats\n",
    "df.describe(include='all')"
   ]
  },
  {
   "cell_type": "code",
   "execution_count": null,
   "id": "9ad6fc78",
   "metadata": {},
   "outputs": [],
   "source": [
    "# Correlation heatmap (matplotlib only)\n",
    "import numpy as np\n",
    "\n",
    "numeric = df.select_dtypes(include=[float,int])\n",
    "corr = numeric.corr(numeric_only=True).values\n",
    "labels = numeric.columns.tolist()\n",
    "\n",
    "fig = plt.figure(figsize=(8,6))\n",
    "im = plt.imshow(corr, interpolation='nearest')\n",
    "plt.title(\"Correlation Heatmap\")\n",
    "plt.xticks(range(len(labels)), labels, rotation=90)\n",
    "plt.yticks(range(len(labels)), labels)\n",
    "plt.colorbar(im, fraction=0.046, pad=0.04)\n",
    "plt.tight_layout()\n",
    "plt.show()"
   ]
  },
  {
   "cell_type": "code",
   "execution_count": null,
   "id": "eb017d0f",
   "metadata": {},
   "outputs": [],
   "source": [
    "# Scatter: Danceability vs Energy\n",
    "plt.figure(figsize=(6,5))\n",
    "plt.scatter(df['danceability'], df['energy'])\n",
    "plt.xlabel(\"Danceability\")\n",
    "plt.ylabel(\"Energy\")\n",
    "plt.title(\"Danceability vs Energy\")\n",
    "plt.show()"
   ]
  },
  {
   "cell_type": "code",
   "execution_count": null,
   "id": "038f4c08",
   "metadata": {},
   "outputs": [],
   "source": [
    "# Quick test: recommendations inline\n",
    "from src.data_processing import load_dataset\n",
    "from src.recommender import ContentRecommender\n",
    "\n",
    "df2 = load_dataset(\"../data/indian_songs.csv\")\n",
    "rec = ContentRecommender(df2)\n",
    "seed = df2.iloc[0]['id']\n",
    "out = rec.recommend_by_id(seed, top_k=5)\n",
    "out"
   ]
  }
 ],
 "metadata": {},
 "nbformat": 4,
 "nbformat_minor": 5
}
